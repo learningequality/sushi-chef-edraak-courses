{
 "cells": [
  {
   "cell_type": "code",
   "execution_count": 1,
   "metadata": {},
   "outputs": [],
   "source": [
    "import json, os\n",
    "from libedx import extract_course_tree, print_course"
   ]
  },
  {
   "cell_type": "code",
   "execution_count": null,
   "metadata": {},
   "outputs": [],
   "source": []
  },
  {
   "cell_type": "code",
   "execution_count": 2,
   "metadata": {},
   "outputs": [],
   "source": [
    "from sushichef import clean_subtree, process_video"
   ]
  },
  {
   "cell_type": "code",
   "execution_count": 3,
   "metadata": {
    "scrolled": false
   },
   "outputs": [
    {
     "name": "stdout",
     "output_type": "stream",
     "text": [
      "kind = course\n",
      "id = course\n",
      "license = creative-commons: ver=4.0 BY NC SA\n",
      "advertised_start = null\n",
      "certificates_display_behavior = early_no_info\n",
      "course_image = bigstock-savings-finances-economy-and-75526486.jpg\n",
      "days_early_for_beta = 1.0\n",
      "display_name = تخطيط الأمور المالية الشخصية\n",
      "end = null\n",
      "enrollment_end = null\n",
      "enrollment_start = \"2017-04-09T09:00:00+00:00\"\n",
      "graceperiod = 43200 seconds\n",
      "language = en\n",
      "minimum_grade_credit = 0.8\n",
      "mobile_available = true\n",
      "self_paced = true\n",
      "show_calculator = true\n",
      "start = \"2017-04-18T00:00:00+00:00\"\n",
      "use_latex_compiler = true\n",
      "user_partitions = [{\"name\": \"Content Group Configuration\", \"parameters\": {}, \"version\": 3, \"groups\": [], \"active\": true, \"scheme\": \"cohort\", \"id\": 1544373260, \"description\": \"The groups in this configuration can be mapped to cohort groups in the LMS.\"}]\n",
      "video_upload_pipeline = {\"course_video_upload_token\": \"w/RbyrBKKoYbyqHAOvOrokWGPz405cxen6pgxvz8Pz9+PF5MfCFuBx\"}\n",
      "url_name = course\n",
      "org = Edraak\n",
      "course = FL100\n",
      "\n",
      "\n",
      "\n",
      "\n",
      "kind = course\n",
      "id = course\n",
      "license = creative-commons: ver=4.0 BY NC SA\n",
      "course_image = Square-image-new.png\n",
      "display_name = المهارات الاساسية للاسعافات الأولية\n",
      "end = \"2016-12-26T23:30:00+00:00\"\n",
      "enrollment_end = \"2016-12-26T23:30:00+00:00\"\n",
      "enrollment_start = \"2016-09-28T02:00:00+00:00\"\n",
      "graceperiod = \n",
      "language = en\n",
      "minimum_grade_credit = 0.8\n",
      "start = \"2016-11-28T22:30:00+00:00\"\n",
      "video_upload_pipeline = {\"course_video_upload_token\": \"w/RbyrBKKoYbyqHAOvOrokWGPz405cxen6pgxvz8Pz9+PF5MfCFuBx\"}\n",
      "url_name = course\n",
      "org = Edraak\n",
      "course = FA911\n",
      "\n",
      "\n",
      "\n",
      "\n",
      "kind = course\n",
      "id = course\n",
      "license = creative-commons: ver=4.0 BY NC SA\n",
      "advertised_start = null\n",
      "cert_html_view_enabled = true\n",
      "certificates_display_behavior = early_no_info\n",
      "course_image = صورة أساسيات الإنترنت - ICDL - مربعة.png\n",
      "display_name = أساسيات الانترنت والمراسلات\n",
      "end = null\n",
      "enrollment_end = null\n",
      "enrollment_start = \"2018-10-11T00:00:00+00:00\"\n",
      "graceperiod = \n",
      "language = en\n",
      "minimum_grade_credit = 0.8\n",
      "mobile_available = true\n",
      "self_paced = true\n",
      "specialization_slug = specialization/icdlsp-vv1\n",
      "start = \"2019-02-01T00:00:00+00:00\"\n",
      "video_upload_pipeline = {\"course_video_upload_token\": \"w/RbyrBKKoYbyqHAOvOrokWGPz405cxen6pgxvz8Pz9+PF5MfCFuBx\"}\n",
      "url_name = course\n",
      "org = Edraak\n",
      "course = ICDL2\n",
      "\n",
      "\n",
      "\n",
      "\n",
      "kind = course\n",
      "id = course\n",
      "certificates_display_behavior = early_with_info\n",
      "course_image = Health_and_Nutrition.jpg\n",
      "days_early_for_beta = 12.0\n",
      "display_name = التغذية والصحة\n",
      "end = null\n",
      "enrollment_end = null\n",
      "enrollment_start = \"2015-12-06T00:00:00+00:00\"\n",
      "graceperiod = 43200 seconds\n",
      "minimum_grade_credit = 0.8\n",
      "mobile_available = true\n",
      "self_paced = true\n",
      "start = \"2015-12-06T00:00:00+00:00\"\n",
      "url_name = course\n",
      "org = Edraak\n",
      "course = NH100\n",
      "\n",
      "\n",
      "\n",
      "\n",
      "kind = course\n",
      "id = course\n",
      "license = creative-commons: ver=4.0 BY NC SA\n",
      "certificates_display_behavior = early_with_info\n",
      "course_image = Interviewing_Skills.jpg\n",
      "display_name = مهارات مقابلة العمل\n",
      "end = null\n",
      "enrollment_end = null\n",
      "enrollment_start = \"2015-10-28T02:00:00+00:00\"\n",
      "graceperiod = \n",
      "max_attempts = 2\n",
      "minimum_grade_credit = 0.8\n",
      "mobile_available = true\n",
      "self_paced = true\n",
      "start = \"2015-10-28T02:00:00+00:00\"\n",
      "url_name = course\n",
      "org = bayt.com\n",
      "course = BA_104\n",
      "\n",
      "\n",
      "\n",
      "\n"
     ]
    }
   ],
   "source": [
    "COURSES_DIR = 'chefdata/Courses'\n",
    "course_list = json.load(open(os.path.join(COURSES_DIR, 'course_list.json')))\n",
    "for course in course_list['courses']: # [1:2]:\n",
    "    basedir = os.path.join(COURSES_DIR, course['name'])\n",
    "    coursedir = os.path.join(basedir, 'course')\n",
    "    course_data = extract_course_tree(coursedir)\n",
    "    for k, v in course_data.items():\n",
    "        if k in ['children', 'certificates', 'pdf_textbooks']:\n",
    "            continue\n",
    "        print(k,'=', v)\n",
    "    # print_course(course_data, translate_from='ar')\n",
    "    clean_subtree(course_data)\n",
    "    print('\\n\\n\\n')"
   ]
  },
  {
   "cell_type": "code",
   "execution_count": 4,
   "metadata": {
    "scrolled": false
   },
   "outputs": [
    {
     "name": "stdout",
     "output_type": "stream",
     "text": [
      "المنشورات \n",
      "https://courses.edraak.org/c4x/bayt.com/BA_104/asset/منشور_١_-_أسئلة_المقابلات_الأكثر_شيوعا_.pdf\n",
      "https://courses.edraak.org/c4x/bayt.com/BA_104/asset/منشور_٢_-_أسئلة_لوظائف_التسويق_والمبيعات.pdf\n",
      "https://courses.edraak.org/c4x/bayt.com/BA_104/asset/منشور_٣_-_أسئلة_للوظائف_الإدارية.pdf\n",
      "https://courses.edraak.org/c4x/bayt.com/BA_104/asset/منشور_٤_-_أسئلة_للوظائف_الفنية.pdf\n",
      "https://courses.edraak.org/c4x/bayt.com/BA_104/asset/منشور_٥_-_أسئلة_لوظائف_الإدارة.pdf\n",
      "https://courses.edraak.org/c4x/bayt.com/BA_104/asset/منشور_٦_-_كيف_تتعامل_مع_الأسئلة_الصعبة.pdf\n"
     ]
    }
   ],
   "source": [
    "# seems skippable\n",
    "import json\n",
    "pdf_textbooks = json.loads(course_data['pdf_textbooks'])\n",
    "url_base = 'https://courses.edraak.org'\n",
    "\n",
    "for tab in pdf_textbooks:\n",
    "    print(tab['tab_title'])\n",
    "    for chapter in tab['chapters']:\n",
    "        print(url_base+chapter['url'])\n"
   ]
  },
  {
   "cell_type": "code",
   "execution_count": null,
   "metadata": {},
   "outputs": [],
   "source": []
  },
  {
   "cell_type": "code",
   "execution_count": 5,
   "metadata": {
    "scrolled": false
   },
   "outputs": [],
   "source": [
    "# print_course(course_data)"
   ]
  },
  {
   "cell_type": "code",
   "execution_count": 6,
   "metadata": {},
   "outputs": [
    {
     "data": {
      "text/plain": [
       "dict_keys(['kind', 'id', 'children', 'license', 'certificates', 'certificates_display_behavior', 'course_image', 'display_name', 'end', 'enrollment_end', 'enrollment_start', 'graceperiod', 'max_attempts', 'minimum_grade_credit', 'mobile_available', 'pdf_textbooks', 'self_paced', 'start', 'url_name', 'org', 'course'])"
      ]
     },
     "execution_count": 6,
     "metadata": {},
     "output_type": "execute_result"
    }
   ],
   "source": [
    "course_data['course']\n",
    "course_data.keys()"
   ]
  },
  {
   "cell_type": "code",
   "execution_count": 7,
   "metadata": {
    "scrolled": false
   },
   "outputs": [
    {
     "name": "stdout",
     "output_type": "stream",
     "text": [
      "kind = course\n",
      "id = course\n",
      "license = creative-commons: ver=4.0 BY NC SA\n",
      "certificates_display_behavior = early_with_info\n",
      "course_image = Interviewing_Skills.jpg\n",
      "display_name = مهارات مقابلة العمل\n",
      "end = null\n",
      "enrollment_end = null\n",
      "enrollment_start = \"2015-10-28T02:00:00+00:00\"\n",
      "graceperiod = \n",
      "max_attempts = 2\n",
      "minimum_grade_credit = 0.8\n",
      "mobile_available = true\n",
      "self_paced = true\n",
      "start = \"2015-10-28T02:00:00+00:00\"\n",
      "url_name = course\n",
      "org = bayt.com\n",
      "course = BA_104\n"
     ]
    }
   ],
   "source": [
    "\n",
    "for k, v in course_data.items():\n",
    "    if k in ['children', 'certificates', 'pdf_textbooks']:\n",
    "        continue\n",
    "    print(k,'=', v)"
   ]
  },
  {
   "cell_type": "code",
   "execution_count": 8,
   "metadata": {},
   "outputs": [
    {
     "data": {
      "text/plain": [
       "'BA_104'"
      ]
     },
     "execution_count": 8,
     "metadata": {},
     "output_type": "execute_result"
    }
   ],
   "source": [
    "# source_id\n",
    "source_id = course_data['course']\n",
    "source_id"
   ]
  },
  {
   "cell_type": "code",
   "execution_count": 9,
   "metadata": {},
   "outputs": [
    {
     "data": {
      "text/plain": [
       "'مهارات مقابلة العمل'"
      ]
     },
     "execution_count": 9,
     "metadata": {},
     "output_type": "execute_result"
    }
   ],
   "source": [
    "# title\n",
    "title = course_data['display_name']\n",
    "title"
   ]
  },
  {
   "cell_type": "code",
   "execution_count": null,
   "metadata": {},
   "outputs": [],
   "source": []
  },
  {
   "cell_type": "code",
   "execution_count": 10,
   "metadata": {},
   "outputs": [
    {
     "data": {
      "text/plain": [
       "'Interviewing_Skills.jpg'"
      ]
     },
     "execution_count": 10,
     "metadata": {},
     "output_type": "execute_result"
    }
   ],
   "source": [
    "# thumbnail\n",
    "course_thumbnail = course_data['course_image']\n",
    "course_thumbnail"
   ]
  },
  {
   "cell_type": "code",
   "execution_count": null,
   "metadata": {},
   "outputs": [],
   "source": [
    "\n"
   ]
  },
  {
   "cell_type": "code",
   "execution_count": null,
   "metadata": {},
   "outputs": [],
   "source": []
  }
 ],
 "metadata": {
  "kernelspec": {
   "display_name": "Python 3",
   "language": "python",
   "name": "python3"
  },
  "language_info": {
   "codemirror_mode": {
    "name": "ipython",
    "version": 3
   },
   "file_extension": ".py",
   "mimetype": "text/x-python",
   "name": "python",
   "nbconvert_exporter": "python",
   "pygments_lexer": "ipython3",
   "version": "3.7.4"
  }
 },
 "nbformat": 4,
 "nbformat_minor": 2
}
